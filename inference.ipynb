{
 "cells": [
  {
   "cell_type": "code",
   "execution_count": 1,
   "metadata": {},
   "outputs": [
    {
     "name": "stderr",
     "output_type": "stream",
     "text": [
      "/Users/srihari/tf2/lib/python3.6/site-packages/tensorflow/python/framework/dtypes.py:516: FutureWarning: Passing (type, 1) or '1type' as a synonym of type is deprecated; in a future version of numpy, it will be understood as (type, (1,)) / '(1,)type'.\n",
      "  _np_qint8 = np.dtype([(\"qint8\", np.int8, 1)])\n",
      "/Users/srihari/tf2/lib/python3.6/site-packages/tensorflow/python/framework/dtypes.py:517: FutureWarning: Passing (type, 1) or '1type' as a synonym of type is deprecated; in a future version of numpy, it will be understood as (type, (1,)) / '(1,)type'.\n",
      "  _np_quint8 = np.dtype([(\"quint8\", np.uint8, 1)])\n",
      "/Users/srihari/tf2/lib/python3.6/site-packages/tensorflow/python/framework/dtypes.py:518: FutureWarning: Passing (type, 1) or '1type' as a synonym of type is deprecated; in a future version of numpy, it will be understood as (type, (1,)) / '(1,)type'.\n",
      "  _np_qint16 = np.dtype([(\"qint16\", np.int16, 1)])\n",
      "/Users/srihari/tf2/lib/python3.6/site-packages/tensorflow/python/framework/dtypes.py:519: FutureWarning: Passing (type, 1) or '1type' as a synonym of type is deprecated; in a future version of numpy, it will be understood as (type, (1,)) / '(1,)type'.\n",
      "  _np_quint16 = np.dtype([(\"quint16\", np.uint16, 1)])\n",
      "/Users/srihari/tf2/lib/python3.6/site-packages/tensorflow/python/framework/dtypes.py:520: FutureWarning: Passing (type, 1) or '1type' as a synonym of type is deprecated; in a future version of numpy, it will be understood as (type, (1,)) / '(1,)type'.\n",
      "  _np_qint32 = np.dtype([(\"qint32\", np.int32, 1)])\n",
      "/Users/srihari/tf2/lib/python3.6/site-packages/tensorflow/python/framework/dtypes.py:525: FutureWarning: Passing (type, 1) or '1type' as a synonym of type is deprecated; in a future version of numpy, it will be understood as (type, (1,)) / '(1,)type'.\n",
      "  np_resource = np.dtype([(\"resource\", np.ubyte, 1)])\n",
      "/Users/srihari/tf2/lib/python3.6/site-packages/tensorboard/compat/tensorflow_stub/dtypes.py:541: FutureWarning: Passing (type, 1) or '1type' as a synonym of type is deprecated; in a future version of numpy, it will be understood as (type, (1,)) / '(1,)type'.\n",
      "  _np_qint8 = np.dtype([(\"qint8\", np.int8, 1)])\n",
      "/Users/srihari/tf2/lib/python3.6/site-packages/tensorboard/compat/tensorflow_stub/dtypes.py:542: FutureWarning: Passing (type, 1) or '1type' as a synonym of type is deprecated; in a future version of numpy, it will be understood as (type, (1,)) / '(1,)type'.\n",
      "  _np_quint8 = np.dtype([(\"quint8\", np.uint8, 1)])\n",
      "/Users/srihari/tf2/lib/python3.6/site-packages/tensorboard/compat/tensorflow_stub/dtypes.py:543: FutureWarning: Passing (type, 1) or '1type' as a synonym of type is deprecated; in a future version of numpy, it will be understood as (type, (1,)) / '(1,)type'.\n",
      "  _np_qint16 = np.dtype([(\"qint16\", np.int16, 1)])\n",
      "/Users/srihari/tf2/lib/python3.6/site-packages/tensorboard/compat/tensorflow_stub/dtypes.py:544: FutureWarning: Passing (type, 1) or '1type' as a synonym of type is deprecated; in a future version of numpy, it will be understood as (type, (1,)) / '(1,)type'.\n",
      "  _np_quint16 = np.dtype([(\"quint16\", np.uint16, 1)])\n",
      "/Users/srihari/tf2/lib/python3.6/site-packages/tensorboard/compat/tensorflow_stub/dtypes.py:545: FutureWarning: Passing (type, 1) or '1type' as a synonym of type is deprecated; in a future version of numpy, it will be understood as (type, (1,)) / '(1,)type'.\n",
      "  _np_qint32 = np.dtype([(\"qint32\", np.int32, 1)])\n",
      "/Users/srihari/tf2/lib/python3.6/site-packages/tensorboard/compat/tensorflow_stub/dtypes.py:550: FutureWarning: Passing (type, 1) or '1type' as a synonym of type is deprecated; in a future version of numpy, it will be understood as (type, (1,)) / '(1,)type'.\n",
      "  np_resource = np.dtype([(\"resource\", np.ubyte, 1)])\n"
     ]
    },
    {
     "name": "stdout",
     "output_type": "stream",
     "text": [
      "TensorFlow 2.0.0-beta1\n"
     ]
    }
   ],
   "source": [
    "import os\n",
    "import random\n",
    "import numpy as np\n",
    "import matplotlib.pyplot as plt\n",
    "from tensorflow.python.keras.models import Model, load_model\n",
    "from tensorflow.python.keras.preprocessing.image import load_img, img_to_array\n",
    "from JPU import JPU_DeepLab\n",
    "import tensorflow as tf\n",
    "import cv2\n",
    "from tqdm import tqdm\n",
    "import os\n",
    "import random\n",
    "from glob import glob\n",
    "import pickle\n",
    "import time\n",
    "import json\n",
    "from tensorflow.keras.utils import multi_gpu_model\n",
    "from tensorflow.python.keras.utils import Sequence\n",
    "from moviepy.editor import VideoFileClip, ImageSequenceClip\n",
    "from tensorflow.keras.applications.resnet50 import preprocess_input"
   ]
  },
  {
   "cell_type": "code",
   "execution_count": 2,
   "metadata": {},
   "outputs": [],
   "source": [
    "h, w = 800, 1600\n",
    "with open('cityscapes_dict.pkl', 'rb') as f:\n",
    "    id_to_color = pickle.load(f)['color_map']"
   ]
  },
  {
   "cell_type": "code",
   "execution_count": 3,
   "metadata": {},
   "outputs": [
    {
     "name": "stdout",
     "output_type": "stream",
     "text": [
      "Downloading data from https://github.com/keras-team/keras-applications/releases/download/resnet/resnet101_weights_tf_dim_ordering_tf_kernels_notop.h5\n",
      "171450368/171446536 [==============================] - 95s 1us/step\n"
     ]
    }
   ],
   "source": [
    "model = JPU_DeepLab(h, w, 34)\n",
    "model.load_weights('top_weights.h5')"
   ]
  },
  {
   "cell_type": "code",
   "execution_count": 17,
   "metadata": {},
   "outputs": [],
   "source": [
    "def pipeline(image, video=True, return_seg=False, fname='', folder=''):\n",
    "    global b\n",
    "    alpha = 0.5\n",
    "    dims = image.shape\n",
    "    image = cv2.resize(image, (w, h))\n",
    "    x = image.copy()\n",
    "    z = model.predict(preprocess_input(np.expand_dims(x, axis=0)))\n",
    "    z = np.squeeze(z)\n",
    "    y = np.argmax(z, axis=2)\n",
    "    \n",
    "    img_color = image.copy()   \n",
    "    for i in np.unique(y):\n",
    "        if i in id_to_color:\n",
    "            img_color[y==i] = id_to_color[i]\n",
    "    disp = img_color.copy()\n",
    "    if video:\n",
    "        cv2.addWeighted(image, alpha, img_color, 1-alpha, 0, img_color)        \n",
    "        return img_color\n",
    "    if return_seg:\n",
    "        return img_color/255.\n",
    "    else:\n",
    "        cv2.addWeighted(image, alpha, img_color, 1-alpha, 0, img_color)      \n",
    "        plt.figure(figsize=(20, 10))\n",
    "        out = np.concatenate([image/255, img_color/255, disp/255], axis=1)\n",
    "        \n",
    "        plt.imshow(img_color/255.0)\n",
    "        plt.imshow(out)\n",
    "        return cv2.imwrite(f'outputs/{folder}/{fname}',  cv2.cvtColor(img_color, cv2.COLOR_RGB2BGR))    "
   ]
  },
  {
   "cell_type": "code",
   "execution_count": 18,
   "metadata": {},
   "outputs": [
    {
     "name": "stdout",
     "output_type": "stream",
     "text": [
      "500 frames found\n"
     ]
    }
   ],
   "source": [
    "image_dir = '/Users/srihari/datasets/dataset/val_images'\n",
    "image_list = os.listdir(image_dir)\n",
    "image_list.sort()\n",
    "print(f'{len(image_list)} frames found')"
   ]
  },
  {
   "cell_type": "code",
   "execution_count": null,
   "metadata": {},
   "outputs": [
    {
     "name": "stderr",
     "output_type": "stream",
     "text": [
      " 80%|████████  | 16/20 [04:51<01:12, 18.07s/it]"
     ]
    }
   ],
   "source": [
    "for i in tqdm(range(20)):\n",
    "    test = load_img(f'{image_dir}/{image_list[i]}')\n",
    "    test = np.array(test)\n",
    "    pipeline(test, video=False, fname=f'{i}.png', folder='')"
   ]
  },
  {
   "cell_type": "code",
   "execution_count": 31,
   "metadata": {},
   "outputs": [
    {
     "name": "stderr",
     "output_type": "stream",
     "text": [
      "  0%|          | 0/599 [00:00<?, ?it/s]"
     ]
    },
    {
     "name": "stdout",
     "output_type": "stream",
     "text": [
      "599 frames found\n"
     ]
    },
    {
     "name": "stderr",
     "output_type": "stream",
     "text": [
      "100%|██████████| 599/599 [05:30<00:00,  1.82it/s]\n",
      "t:   0%|          | 0/600 [00:00<?, ?it/s, now=None]"
     ]
    },
    {
     "name": "stdout",
     "output_type": "stream",
     "text": [
      "Moviepy - Building video stuttgart_00.mp4.\n",
      "Moviepy - Writing video stuttgart_00.mp4\n",
      "\n"
     ]
    },
    {
     "name": "stderr",
     "output_type": "stream",
     "text": []
    },
    {
     "name": "stderr",
     "output_type": "stream",
     "text": [
      "  0%|          | 0/1100 [00:00<?, ?it/s]"
     ]
    },
    {
     "name": "stdout",
     "output_type": "stream",
     "text": [
      "Moviepy - Done !\n",
      "Moviepy - video ready stuttgart_00.mp4\n",
      "1100 frames found\n"
     ]
    },
    {
     "name": "stderr",
     "output_type": "stream",
     "text": [
      "100%|██████████| 1100/1100 [10:36<00:00,  1.70it/s]\n"
     ]
    },
    {
     "name": "stdout",
     "output_type": "stream",
     "text": [
      "Moviepy - Building video stuttgart_01.mp4.\n",
      "Moviepy - Writing video stuttgart_01.mp4\n",
      "\n"
     ]
    },
    {
     "name": "stderr",
     "output_type": "stream",
     "text": []
    },
    {
     "name": "stderr",
     "output_type": "stream",
     "text": [
      "  0%|          | 0/1200 [00:00<?, ?it/s]"
     ]
    },
    {
     "name": "stdout",
     "output_type": "stream",
     "text": [
      "Moviepy - Done !\n",
      "Moviepy - video ready stuttgart_01.mp4\n",
      "1200 frames found\n"
     ]
    },
    {
     "name": "stderr",
     "output_type": "stream",
     "text": [
      "100%|██████████| 1200/1200 [11:27<00:00,  1.69it/s]\n"
     ]
    },
    {
     "name": "stdout",
     "output_type": "stream",
     "text": [
      "Moviepy - Building video stuttgart_02.mp4.\n",
      "Moviepy - Writing video stuttgart_02.mp4\n",
      "\n"
     ]
    },
    {
     "name": "stderr",
     "output_type": "stream",
     "text": []
    },
    {
     "name": "stdout",
     "output_type": "stream",
     "text": [
      "Moviepy - Done !\n",
      "Moviepy - video ready stuttgart_02.mp4\n"
     ]
    }
   ],
   "source": [
    "for image_dir in ['stuttgart_00', 'stuttgart_01', 'stuttgart_02']:\n",
    "    os.mkdir(f'outputs/{image_dir}')\n",
    "    image_list = os.listdir(image_dir)\n",
    "    image_list.sort()\n",
    "    print(f'{len(image_list)} frames found')\n",
    "    for i in tqdm(range(len(image_list))):\n",
    "        try:\n",
    "            test = plt.imread(f'{image_dir}/{image_list[i]}')\n",
    "            test = img_to_array(test)\n",
    "            segmap = pipeline(test, video=False, fname=f'{image_list[i]}', folder=image_dir)\n",
    "            if segmap == False:\n",
    "                break\n",
    "        except Exception as e:\n",
    "            print(str(e))\n",
    "    clip = ImageSequenceClip(sorted(glob(f'outputs/{image_dir}/*')), fps=18, load_images=True)\n",
    "    clip.write_videofile(f'{image_dir}.mp4')"
   ]
  },
  {
   "cell_type": "code",
   "execution_count": null,
   "metadata": {},
   "outputs": [],
   "source": []
  }
 ],
 "metadata": {
  "kernelspec": {
   "display_name": "Python 3",
   "language": "python",
   "name": "python3"
  },
  "language_info": {
   "codemirror_mode": {
    "name": "ipython",
    "version": 3
   },
   "file_extension": ".py",
   "mimetype": "text/x-python",
   "name": "python",
   "nbconvert_exporter": "python",
   "pygments_lexer": "ipython3",
   "version": "3.6.5"
  }
 },
 "nbformat": 4,
 "nbformat_minor": 4
}
